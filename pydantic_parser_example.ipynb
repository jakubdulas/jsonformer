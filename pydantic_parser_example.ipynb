{
 "cells": [
  {
   "cell_type": "code",
   "execution_count": 3,
   "metadata": {},
   "outputs": [],
   "source": [
    "from jsonformer.pydantic_parser import create_scheme\n",
    "from jsonformer.format import highlight_values\n",
    "from jsonformer.main import Jsonformer\n",
    "from typing import Literal\n",
    "from pydantic import BaseModel"
   ]
  },
  {
   "cell_type": "code",
   "execution_count": null,
   "metadata": {},
   "outputs": [],
   "source": [
    "from transformers import AutoModelForCausalLM, AutoTokenizer\n",
    "\n",
    "print(\"Loading model and tokenizer...\")\n",
    "model_name = \"databricks/dolly-v2-3b\"\n",
    "model = AutoModelForCausalLM.from_pretrained(model_name, use_cache=True, device_map=\"auto\")\n",
    "tokenizer = AutoTokenizer.from_pretrained(model_name, use_fast=True, use_cache=True)\n",
    "print(\"Loaded model and tokenizer\")"
   ]
  },
  {
   "cell_type": "code",
   "execution_count": 6,
   "metadata": {},
   "outputs": [
    {
     "data": {
      "text/plain": [
       "{'type': 'object',\n",
       " 'properties': {'car': {'type': 'object',\n",
       "   'properties': {'make': {'type': 'string'},\n",
       "    'model': {'type': 'string'},\n",
       "    'year': {'type': 'number'},\n",
       "    'colors': {'type': 'array',\n",
       "     'items': {'type': 'object',\n",
       "      'properties': {'name': {'type': 'enum',\n",
       "        'values': ['red', 'green', 'black']},\n",
       "       'id': {'type': 'string'}}}},\n",
       "    'features': {'type': 'object',\n",
       "     'properties': {'audio': {'type': 'object',\n",
       "       'properties': {'brand': {'type': 'string'},\n",
       "        'speakers': {'type': 'number'},\n",
       "        'hasBluetooth': {'type': 'boolean'}}},\n",
       "      'safety': {'type': 'object',\n",
       "       'properties': {'airbags': {'type': 'number'},\n",
       "        'parkingSensors': {'type': 'boolean'},\n",
       "        'laneAssist': {'type': 'boolean'}}},\n",
       "      'performance': {'type': 'object',\n",
       "       'properties': {'engine': {'type': 'string'},\n",
       "        'horsepower': {'type': 'number'},\n",
       "        'topSpeed': {'type': 'number'}}}}}}},\n",
       "  'owner': {'type': 'object',\n",
       "   'properties': {'firstName': {'type': 'string'},\n",
       "    'lastName': {'type': 'string'},\n",
       "    'age': {'type': 'number'}}}}}"
      ]
     },
     "execution_count": 6,
     "metadata": {},
     "output_type": "execute_result"
    }
   ],
   "source": [
    "color_names = Literal[\n",
    "    \"red\",\n",
    "    \"green\",\n",
    "    \"black\"\n",
    "]\n",
    "\n",
    "class Color(BaseModel):\n",
    "    name: color_names\n",
    "    id: str\n",
    "\n",
    "class Performance(BaseModel):\n",
    "    engine: str\n",
    "    horsepower: float\n",
    "    topSpeed: float\n",
    "\n",
    "class Safety(BaseModel):\n",
    "    airbags: int \n",
    "    parkingSensors: bool \n",
    "    laneAssist: bool\n",
    "\n",
    "class Audio(BaseModel):\n",
    "    brand: str\n",
    "    speakers: int\n",
    "    hasBluetooth: bool\n",
    "\n",
    "class Features(BaseModel):\n",
    "    audio: Audio\n",
    "    safety: Safety\n",
    "    performance: Performance\n",
    "\n",
    "class Car(BaseModel):\n",
    "    make: str\n",
    "    model: str\n",
    "    year: int \n",
    "    colors: list[Color]\n",
    "    features: Features\n",
    "\n",
    "class Owner(BaseModel):\n",
    "    firstName: str\n",
    "    lastName: str\n",
    "    age: int\n",
    "\n",
    "class CarObject(BaseModel):\n",
    "    car: Car\n",
    "    owner: Owner\n",
    "\n",
    "car_object = create_scheme(CarObject)\n",
    "car_object"
   ]
  },
  {
   "cell_type": "code",
   "execution_count": null,
   "metadata": {},
   "outputs": [],
   "source": [
    "builder = Jsonformer(\n",
    "    model=model,\n",
    "    tokenizer=tokenizer,\n",
    "    json_schema=car_object,\n",
    "    prompt=\"generate an example car\",\n",
    "    max_string_token_length=20,\n",
    ")\n",
    "\n",
    "print(\"Generating...\")\n",
    "output = builder()\n",
    "\n",
    "highlight_values(output)"
   ]
  }
 ],
 "metadata": {
  "kernelspec": {
   "display_name": "llm",
   "language": "python",
   "name": "python3"
  },
  "language_info": {
   "codemirror_mode": {
    "name": "ipython",
    "version": 3
   },
   "file_extension": ".py",
   "mimetype": "text/x-python",
   "name": "python",
   "nbconvert_exporter": "python",
   "pygments_lexer": "ipython3",
   "version": "3.10.12"
  },
  "orig_nbformat": 4
 },
 "nbformat": 4,
 "nbformat_minor": 2
}
