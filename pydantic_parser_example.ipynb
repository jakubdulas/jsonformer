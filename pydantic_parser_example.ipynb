{
 "cells": [
  {
   "cell_type": "code",
   "execution_count": 1,
   "metadata": {},
   "outputs": [],
   "source": [
    "from jsonformer.pydantic_parser import create_scheme\n",
    "from jsonformer.format import highlight_values\n",
    "from jsonformer.main import Jsonformer\n",
    "from typing import Literal\n",
    "from pydantic import BaseModel"
   ]
  },
  {
   "cell_type": "code",
   "execution_count": 2,
   "metadata": {},
   "outputs": [
    {
     "data": {
      "application/vnd.jupyter.widget-view+json": {
       "model_id": "aadf643fe58d4974b4e6de62199b4c01",
       "version_major": 2,
       "version_minor": 0
      },
      "text/plain": [
       "Loading checkpoint shards:   0%|          | 0/2 [00:00<?, ?it/s]"
      ]
     },
     "metadata": {},
     "output_type": "display_data"
    }
   ],
   "source": [
    "from transformers import BitsAndBytesConfig, AutoTokenizer, AutoModelForCausalLM\n",
    "import torch\n",
    "\n",
    "\n",
    "checkpoint = \"meta-llama/Llama-2-7b-hf\"\n",
    "\n",
    "bnb_config = BitsAndBytesConfig(\n",
    "    load_in_4bit=True,\n",
    "    bnb_4bit_use_double_quant=True,\n",
    "    bnb_4bit_quant_type=\"nf4\",\n",
    "    bnb_4bit_compute_dtype=torch.bfloat16\n",
    ")\n",
    "\n",
    "\n",
    "tokenizer = AutoTokenizer.from_pretrained(checkpoint)\n",
    "tokenizer.pad_token = tokenizer.eos_token\n",
    "\n",
    "model = AutoModelForCausalLM.from_pretrained(\n",
    "    checkpoint,\n",
    "    device_map=\"auto\",\n",
    "    trust_remote_code=True,\n",
    "    quantization_config=bnb_config,\n",
    ")"
   ]
  },
  {
   "cell_type": "code",
   "execution_count": 3,
   "metadata": {},
   "outputs": [
    {
     "data": {
      "text/plain": [
       "{'type': 'object',\n",
       " 'properties': {'car': {'type': 'object',\n",
       "   'properties': {'make': {'type': 'string'},\n",
       "    'model': {'type': 'string'},\n",
       "    'year': {'type': 'number'},\n",
       "    'colors': {'type': 'array', 'items': {'type': 'string'}},\n",
       "    'features': {'type': 'object',\n",
       "     'properties': {'audio': {'type': 'object',\n",
       "       'properties': {'brand': {'type': 'enum',\n",
       "         'values': ['JBL', 'Bose', 'Sony', 'Harman Kardon']},\n",
       "        'speakers': {'type': 'number'},\n",
       "        'hasBluetooth': {'type': 'boolean'}}},\n",
       "      'safety': {'type': 'object',\n",
       "       'properties': {'airbags': {'type': 'number'},\n",
       "        'parkingSensors': {'type': 'boolean'},\n",
       "        'laneAssist': {'type': 'boolean'}}},\n",
       "      'performance': {'type': 'object',\n",
       "       'properties': {'engine': {'type': 'string'},\n",
       "        'horsepower': {'type': 'number'},\n",
       "        'topSpeed': {'type': 'number'}}}}}}},\n",
       "  'owner': {'type': 'object',\n",
       "   'properties': {'firstName': {'type': 'string'},\n",
       "    'lastName': {'type': 'string'},\n",
       "    'age': {'type': 'number'}}}}}"
      ]
     },
     "execution_count": 3,
     "metadata": {},
     "output_type": "execute_result"
    }
   ],
   "source": [
    "audio_brands = Literal[\n",
    "    \"JBL\",\n",
    "    \"Bose\",\n",
    "    \"Sony\",\n",
    "    \"Harman Kardon\"\n",
    "]\n",
    "\n",
    "class Performance(BaseModel):\n",
    "    engine: str\n",
    "    horsepower: float\n",
    "    topSpeed: float\n",
    "\n",
    "class Safety(BaseModel):\n",
    "    airbags: int \n",
    "    parkingSensors: bool \n",
    "    laneAssist: bool\n",
    "\n",
    "class Audio(BaseModel):\n",
    "    brand: audio_brands\n",
    "    speakers: int\n",
    "    hasBluetooth: bool\n",
    "\n",
    "class Features(BaseModel):\n",
    "    audio: Audio\n",
    "    safety: Safety\n",
    "    performance: Performance\n",
    "\n",
    "class Car(BaseModel):\n",
    "    make: str\n",
    "    model: str\n",
    "    year: int \n",
    "    colors: list[str]\n",
    "    features: Features\n",
    "\n",
    "class Owner(BaseModel):\n",
    "    firstName: str\n",
    "    lastName: str\n",
    "    age: int\n",
    "\n",
    "class CarObject(BaseModel):\n",
    "    car: Car\n",
    "    owner: Owner\n",
    "\n",
    "car_object = create_scheme(CarObject)\n",
    "car_object"
   ]
  },
  {
   "cell_type": "code",
   "execution_count": 4,
   "metadata": {},
   "outputs": [
    {
     "name": "stdout",
     "output_type": "stream",
     "text": [
      "Generating...\n",
      "{\n",
      "  car: {\n",
      "    make: \u001b[32m\"Toyota\"\u001b[0m,\n",
      "    model: \u001b[32m\"Camry\"\u001b[0m,\n",
      "    year: \u001b[32m2018.0\u001b[0m,\n",
      "    colors: [\n",
      "      \u001b[32m\"Silver\"\u001b[0m,\n",
      "      \u001b[32m\"Black\"\u001b[0m,\n",
      "      \u001b[32m\"Red\"\u001b[0m,\n",
      "      \u001b[32m\"Blue\"\u001b[0m,\n",
      "      \u001b[32m\"Green\"\u001b[0m,\n",
      "      \u001b[32m\"Yellow\"\u001b[0m,\n",
      "      \u001b[32m\"Purple\"\u001b[0m,\n",
      "      \u001b[32m\"Orange\"\u001b[0m,\n",
      "      \u001b[32m\"Gray\"\u001b[0m,\n",
      "      \u001b[32m\"White\"\u001b[0m\n",
      "    ],\n",
      "    features: {\n",
      "      audio: {\n",
      "        brand: \u001b[32m\"JBL\"\u001b[0m,\n",
      "        speakers: \u001b[32m10.0\u001b[0m,\n",
      "        hasBluetooth: \u001b[32mTrue\u001b[0m\n",
      "      },\n",
      "      safety: {\n",
      "        airbags: \u001b[32m6.0\u001b[0m,\n",
      "        parkingSensors: \u001b[32mFalse\u001b[0m,\n",
      "        laneAssist: \u001b[32mFalse\u001b[0m\n",
      "      },\n",
      "      performance: {\n",
      "        engine: \u001b[32m\"4.0L V6\"\u001b[0m,\n",
      "        horsepower: \u001b[32m301.0\u001b[0m,\n",
      "        topSpeed: \u001b[32m130.0\u001b[0m\n",
      "      }\n",
      "    }\n",
      "  },\n",
      "  owner: {\n",
      "    firstName: \u001b[32m\"John\"\u001b[0m,\n",
      "    lastName: \u001b[32m\"Doe\"\u001b[0m,\n",
      "    age: \u001b[32m32.0\u001b[0m\n",
      "  }\n",
      "}\n"
     ]
    }
   ],
   "source": [
    "builder = Jsonformer(\n",
    "    model=model,\n",
    "    tokenizer=tokenizer,\n",
    "    json_schema=car_object,\n",
    "    prompt=\"generate an example car\",\n",
    "    max_string_token_length=20,\n",
    ")\n",
    "\n",
    "print(\"Generating...\")\n",
    "output = builder()\n",
    "\n",
    "highlight_values(output)"
   ]
  }
 ],
 "metadata": {
  "kernelspec": {
   "display_name": "llm",
   "language": "python",
   "name": "python3"
  },
  "language_info": {
   "codemirror_mode": {
    "name": "ipython",
    "version": 3
   },
   "file_extension": ".py",
   "mimetype": "text/x-python",
   "name": "python",
   "nbconvert_exporter": "python",
   "pygments_lexer": "ipython3",
   "version": "3.11.4"
  },
  "orig_nbformat": 4
 },
 "nbformat": 4,
 "nbformat_minor": 2
}
